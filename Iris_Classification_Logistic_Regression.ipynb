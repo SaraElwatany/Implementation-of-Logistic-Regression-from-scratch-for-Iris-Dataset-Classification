{
 "cells": [
  {
   "cell_type": "markdown",
   "metadata": {},
   "source": [
    "### Importing Libraries"
   ]
  },
  {
   "cell_type": "code",
   "execution_count": 45,
   "metadata": {},
   "outputs": [],
   "source": [
    "# Importing the libraries\n",
    "import numpy as np\n",
    "import matplotlib.pyplot as plt\n",
    "from sklearn.datasets import load_iris\n",
    "#from sklearn.linear_model import LogisticRegression\n",
    "from sklearn.model_selection import train_test_split\n",
    "from sklearn.metrics import accuracy_score, classification_report"
   ]
  },
  {
   "cell_type": "markdown",
   "metadata": {},
   "source": [
    "### Load The Dataset"
   ]
  },
  {
   "cell_type": "code",
   "execution_count": 46,
   "metadata": {},
   "outputs": [
    {
     "name": "stdout",
     "output_type": "stream",
     "text": [
      "['setosa' 'versicolor' 'virginica']\n",
      "(150, 4)\n",
      "(150,)\n",
      "<class 'numpy.ndarray'>\n"
     ]
    }
   ],
   "source": [
    "iris_data = load_iris()\n",
    "\n",
    "X , Y = iris_data.data , iris_data.target\n",
    "classes = iris_data.target_names\n",
    "#features_names = iris_data.feature_names\n",
    "\n",
    "print(classes)\n",
    "print(X.shape)\n",
    "print(Y.shape)\n",
    "print(type(Y))"
   ]
  },
  {
   "cell_type": "markdown",
   "metadata": {},
   "source": [
    "### Split the dataset to test & train"
   ]
  },
  {
   "cell_type": "code",
   "execution_count": 47,
   "metadata": {},
   "outputs": [],
   "source": [
    "x_train , x_test , y_train , y_test = train_test_split(X, Y, train_size= 0.8, shuffle= True, random_state= 45)"
   ]
  },
  {
   "cell_type": "code",
   "execution_count": 48,
   "metadata": {},
   "outputs": [
    {
     "name": "stdout",
     "output_type": "stream",
     "text": [
      "1. Features: [6.8 2.8 4.8 1.4] , Targeted label: 1 , Targeted Class Name: versicolor\n",
      "2. Features: [5.7 2.9 4.2 1.3] , Targeted label: 1 , Targeted Class Name: versicolor\n",
      "3. Features: [6.  2.2 5.  1.5] , Targeted label: 2 , Targeted Class Name: virginica\n",
      "4. Features: [5.8 2.7 5.1 1.9] , Targeted label: 2 , Targeted Class Name: virginica\n",
      "5. Features: [5.  3.  1.6 0.2] , Targeted label: 0 , Targeted Class Name: setosa\n",
      "6. Features: [6.4 3.1 5.5 1.8] , Targeted label: 2 , Targeted Class Name: virginica\n",
      "7. Features: [4.3 3.  1.1 0.1] , Targeted label: 0 , Targeted Class Name: setosa\n",
      "8. Features: [5.  3.4 1.6 0.4] , Targeted label: 0 , Targeted Class Name: setosa\n",
      "9. Features: [6.4 2.9 4.3 1.3] , Targeted label: 1 , Targeted Class Name: versicolor\n",
      "10. Features: [4.8 3.1 1.6 0.2] , Targeted label: 0 , Targeted Class Name: setosa\n"
     ]
    }
   ],
   "source": [
    "for i in range(10):\n",
    "    print(f'{i+1}. Features: {x_train[i]} , Targeted label: {y_train[i]} , Targeted Class Name: {classes[y_train[i]]}')"
   ]
  },
  {
   "cell_type": "markdown",
   "metadata": {},
   "source": [
    "### Softmax"
   ]
  },
  {
   "cell_type": "code",
   "execution_count": 49,
   "metadata": {},
   "outputs": [],
   "source": [
    "def softmax(y_logits):\n",
    "    return np.exp(y_logits) / np.sum(np.exp(y_logits), axis=1, keepdims=True, dtype=float)  # Return probabilities"
   ]
  },
  {
   "cell_type": "markdown",
   "metadata": {},
   "source": [
    "### One Hot Encoding"
   ]
  },
  {
   "cell_type": "code",
   "execution_count": 50,
   "metadata": {},
   "outputs": [],
   "source": [
    "def one_hot_encode(y):\n",
    "    no_classes = len(np.unique(y))\n",
    "    y_encoded = np.zeros((len(y) , no_classes), dtype= int)\n",
    "    for index, target in enumerate(y):\n",
    "        y_encoded[index][target] = 1\n",
    "    return y_encoded"
   ]
  },
  {
   "cell_type": "markdown",
   "metadata": {},
   "source": [
    "### MultiClass Logistic Regression"
   ]
  },
  {
   "cell_type": "code",
   "execution_count": 51,
   "metadata": {},
   "outputs": [],
   "source": [
    "def multiclass_logisticRegression(x_train , y_train, learning_rate, epochs):\n",
    "\n",
    "    # Get the total no. of samples-> N , no. of features and the number of classes in the dataset\n",
    "    no_samples, no_features = x_train.shape\n",
    "    no_classes = len(np.unique(y_train))\n",
    "\n",
    "    # Initialize the weights and biases\n",
    "    b = np.zeros(shape=(1,no_classes), dtype=float)\n",
    "    w = np.zeros(shape=(no_features, no_classes), dtype=float)\n",
    "    y_prob, y_logits = np.zeros(shape=(no_samples, no_classes), dtype=float) , np.zeros(shape=(no_samples, no_classes), dtype=float)\n",
    "\n",
    "\n",
    "    # Loop to get the minimum loss (Gradient Descent)\n",
    "    for epoch in range(epochs):\n",
    "        y_logits = np.dot(x_train, w) + b      # Get the prediction (logits)\n",
    "        y_prob = softmax(y_logits)      \n",
    "        y_pred = np.zeros(shape= (no_samples, no_classes), dtype= int) \n",
    "        pred_labels = np.argmax(y_prob, axis=1)         # Get the class corresponding to maximum probability\n",
    "        # Get the predictions from the probabilities previously calculated\n",
    "        for indx, label in enumerate(pred_labels):\n",
    "            y_pred[indx][label] = 1\n",
    "        \n",
    "        loss = (y_prob - one_hot_encode(y_train))    # Get the loss\n",
    "\n",
    "        dloss_db = np.sum(loss, axis=0) \n",
    "        dloss_dw = np.dot(x_train.T, loss) #/ no_samples\n",
    "\n",
    "        b -= learning_rate*dloss_db         # Update the biases\n",
    "        w -= learning_rate*dloss_dw         # Update the weights\n",
    "        \n",
    "    return w, b     # Return the weights and biases respectively"
   ]
  },
  {
   "cell_type": "markdown",
   "metadata": {},
   "source": [
    "### Make predictions"
   ]
  },
  {
   "cell_type": "code",
   "execution_count": 52,
   "metadata": {},
   "outputs": [],
   "source": [
    "def predict(weights, biases, x):\n",
    "    Z = np.dot(x, weights) + biases\n",
    "    A = softmax(Z)\n",
    "    return classes[np.argmax(A)]    # Return the class with maximum probability"
   ]
  },
  {
   "cell_type": "markdown",
   "metadata": {},
   "source": [
    "### Get the Confusion Matrix"
   ]
  },
  {
   "cell_type": "code",
   "execution_count": 53,
   "metadata": {},
   "outputs": [],
   "source": [
    "# Function to get the confusion matrix for each class\n",
    "def confusion_metrics(x_test, y_test, weights, biases):\n",
    "\n",
    "    # Get the probabilities for each class\n",
    "    Z = np.dot(x_test, weights) + biases\n",
    "    y_probabilities = softmax(Z)\n",
    "    thresholds = np.linspace(0, 1, 1000)    # Array of Thresholds\n",
    "\n",
    "    tpr, fpr = np.zeros((len(thresholds),), dtype= float) , np.zeros((len(thresholds),), dtype= float) \n",
    "\n",
    "    true_pos, true_neg = np.zeros((len(classes), len(thresholds)), dtype= int) , np.zeros((len(classes), len(thresholds)), dtype= int)\n",
    "    false_pos, false_neg = np.zeros((len(classes), len(thresholds)), dtype= int) , np.zeros((len(classes), len(thresholds)), dtype= int)\n",
    "\n",
    "    # Get TP , FP , TN , FN for each class\n",
    "    for iteration in range(len(classes)):\n",
    "        indx = 0\n",
    "        for threshold in thresholds:\n",
    "            for row, class_data in enumerate(y_probabilities[:][iteration]):\n",
    "                if(class_data >= threshold):\n",
    "                    if(y_test[row] == iteration):\n",
    "                        true_pos[iteration][indx] += 1\n",
    "                    else:\n",
    "                        false_pos[iteration][indx] += 1\n",
    "                elif(class_data < threshold):\n",
    "                    if(y_test[row] != iteration):\n",
    "                        true_neg[iteration][indx] += 1\n",
    "                    else:\n",
    "                        false_neg[iteration][indx] += 1\n",
    "            indx +=1\n",
    "\n",
    "    # We find the True positive rate and False positive rate based on the given threshold\n",
    "    tpr = np.sum(true_pos, axis= 0) / np.sum((true_pos + false_neg), axis= 0)\n",
    "    fpr = np.sum(false_pos, axis= 0) / np.sum((true_neg + false_pos), axis= 0)\n",
    "\n",
    "    return fpr, tpr"
   ]
  },
  {
   "cell_type": "markdown",
   "metadata": {},
   "source": [
    "### Get the Evaluation Metrics"
   ]
  },
  {
   "cell_type": "code",
   "execution_count": 54,
   "metadata": {},
   "outputs": [],
   "source": [
    "def evaluation_metrics(true_positive, true_negative, false_positive, false_negative):\n",
    "    \n",
    "    recall = (true_positive) / (true_positive + false_negative)\n",
    "    f1_score = (2 * true_positive) / ((2 * true_positive) + false_positive + false_negative)\n",
    "    precision = (true_positive) / (true_positive + false_positive)\n",
    "    specificity = (true_negative) / (true_negative + false_positive)\n",
    "    informedness = recall + specificity - 1\n",
    "    accuracy = (true_positive + true_negative) / (true_positive + true_negative + false_positive + false_negative)\n",
    "\n",
    "    print(f'Estimated recall: {recall}')\n",
    "    print(f'Estimated f1_score: {f1_score}')\n",
    "    print(f'Estimated Precision: {precision}')\n",
    "    print(f'Estimated Specificity: {specificity}')\n",
    "    print(f'Estimated Informedness: {informedness}')\n",
    "    print(f'Estimated Accuracy: {accuracy}')"
   ]
  },
  {
   "cell_type": "markdown",
   "metadata": {},
   "source": [
    "### Test the Model"
   ]
  },
  {
   "cell_type": "code",
   "execution_count": 55,
   "metadata": {},
   "outputs": [],
   "source": [
    "def test(weights, biases, x_test, y_test):\n",
    "    no_classes = len(np.unique(y_test))\n",
    "    true_positives, true_negatives, false_positives, false_negatives = np.zeros((no_classes)), np.zeros((no_classes)), np.zeros((no_classes)), np.zeros((no_classes))\n",
    "    for target in range(no_classes):\n",
    "        true_positives[target] = np.sum([ 1 for x , y in zip(x_test, y_test) if (predict(weights, biases, x) == classes[y]) and  (classes[y] == classes[target]) ])\n",
    "        false_positives[target] = np.sum([ 1 for x , y in zip(x_test, y_test) if (predict(weights, biases, x) == classes[target]) and  (classes[y] != classes[target]) ])\n",
    "        true_negatives[target] = np.sum([ 1 for x , y in zip(x_test, y_test) if (predict(weights, biases, x) == classes[y]) and  (classes[y] != classes[target]) ])\n",
    "        false_negatives[target] = np.sum([ 1 for x , y in zip(x_test, y_test) if (predict(weights, biases, x) != classes[target]) and  (classes[y] == classes[target]) ])\n",
    "    \n",
    "    evaluation_metrics(np.sum(true_positives), np.sum(true_negatives), np.sum(false_positives), np.sum(false_negatives))\n",
    "    #positives = np.sum([ 1 for x , y in zip(x_test, y_test) if predict(weights, biases, x) == classes[y] ])   # No. of positively classified samples\n",
    "    #negatives = len(x_test) - positives\n",
    "    #accuracy = positives / len(x_test)"
   ]
  },
  {
   "cell_type": "markdown",
   "metadata": {},
   "source": [
    "### Plot Function"
   ]
  },
  {
   "cell_type": "code",
   "execution_count": 56,
   "metadata": {},
   "outputs": [],
   "source": [
    "def plot_roc(fpr, tpr):\n",
    "    # Use Trapezoidal rule to calculate the area under the curve and approximating the intergral\n",
    "    auc = np.trapz(fpr,tpr) + 1\n",
    "    plt.plot(fpr, tpr, label='ROC curve (area = %0.2f)' %(auc))\n",
    "\n",
    "    # Plot line with slope of 1\n",
    "    plt.plot([0, 1], [0, 1], 'k-', lw=2)\n",
    "    plt.xlim([0.0, 1.0])\n",
    "    plt.ylim([0.0, 1.05])\n",
    "\n",
    "    plt.legend(loc=\"lower right\")\n",
    "\n",
    "    # Add Labels to the Plot\n",
    "    plt.ylabel('True Positive Rate (sensitivity)')\n",
    "    plt.xlabel('False Positive Rate (1-specificity)')\n",
    "    plt.title('Receiver Operating Characteristic for multi-class')\n",
    "\n",
    "    plt.show()"
   ]
  },
  {
   "cell_type": "markdown",
   "metadata": {},
   "source": [
    "### Train , Test & Visualize"
   ]
  },
  {
   "cell_type": "code",
   "execution_count": 57,
   "metadata": {},
   "outputs": [],
   "source": [
    "weights, biases = multiclass_logisticRegression(x_train, y_train, 0.0001, 400)  #1000\n",
    "#print(f'Weights: {weights}' , '\\n\\n' , f'Biases: {biases}', '\\n')\n",
    "#print('Predicted Class for input X = [0.002, 0.4, 0.0234, 0.2] :', predict(weights, biases, np.array([0.002, 0.4, 0.0234, 0.2])))\n"
   ]
  },
  {
   "cell_type": "code",
   "execution_count": 58,
   "metadata": {},
   "outputs": [
    {
     "name": "stdout",
     "output_type": "stream",
     "text": [
      "Estimated recall: 0.9666666666666667\n",
      "Estimated f1_score: 0.9666666666666667\n",
      "Estimated Precision: 0.9666666666666667\n",
      "Estimated Specificity: 0.9830508474576272\n",
      "Estimated Informedness: 0.949717514124294\n",
      "Estimated Accuracy: 0.9775280898876404\n"
     ]
    }
   ],
   "source": [
    "test(weights, biases, x_test, y_test)"
   ]
  },
  {
   "cell_type": "code",
   "execution_count": 59,
   "metadata": {},
   "outputs": [],
   "source": [
    "fpr, tpr = confusion_metrics(x_test, y_test, weights, biases)   # Get the Confusion Matrix"
   ]
  },
  {
   "cell_type": "code",
   "execution_count": 60,
   "metadata": {},
   "outputs": [
    {
     "data": {
      "image/png": "[encoded data removed]",
      "text/plain": [
       "<Figure size 640x480 with 1 Axes>"
      ]
     },
     "metadata": {},
     "output_type": "display_data"
    }
   ],
   "source": [
    "plot_roc(fpr, tpr)   # Plot the ROC Curve"
   ]
  }
 ],
 "metadata": {
  "kernelspec": {
   "display_name": "Python 3",
   "language": "python",
   "name": "python3"
  },
  "language_info": {
   "codemirror_mode": {
    "name": "ipython",
    "version": 3
   },
   "file_extension": ".py",
   "mimetype": "text/x-python",
   "name": "python",
   "nbconvert_exporter": "python",
   "pygments_lexer": "ipython3",
   "version": "3.10.9"
  }
 },
 "nbformat": 4,
 "nbformat_minor": 2
}
